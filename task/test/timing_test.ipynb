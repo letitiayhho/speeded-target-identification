{
 "cells": [
  {
   "cell_type": "code",
   "execution_count": 12,
   "id": "397374c8",
   "metadata": {},
   "outputs": [],
   "source": [
    "import matplotlib.pyplot as plt"
   ]
  },
  {
   "cell_type": "code",
   "execution_count": 1,
   "id": "fc98ca94",
   "metadata": {},
   "outputs": [
    {
     "name": "stdout",
     "output_type": "stream",
     "text": [
      "1245597 0.00396729 0.00305176 77\n",
      "1294108 0.00640869 0.00335693 50\n",
      "1343593 0.00335693 0.00427246 56\n",
      "1384966 0.00549316 0.00152588 53\n",
      "1431777 0.00488281 0.00396729 54\n",
      "1475421 0.00457764 0.00396729 51\n",
      "1514086 0.00518799 0.00274658 56\n",
      "1555842 0.00396729 0.00396729 56\n",
      "1596042 0.00549316 0.0012207 59\n",
      "1642443 0.00366211 0.00305176 54\n",
      "1684198 0.00427246 0.00335693 53\n",
      "1727884 0.00518799 0.00213623 51\n",
      "1768091 0.00457764 0.00244141 50\n",
      "1812554 0.00732422 0.00335693 54\n",
      "1853532 0.00610352 0.00396729 50\n",
      "1898767 0.00488281 0.00488281 50\n",
      "1944386 0.00518799 0.00366211 74\n",
      "1990395 0.00610352 0.00152588 49\n",
      "2033310 0.00579834 0.00335693 50\n",
      "2072744 0.00396729 0.0012207 68\n"
     ]
    }
   ],
   "source": [
    "# Get list of delays\n",
    "TTL_THRESHOLD = 1.0\n",
    "AUDIO_THRESHOLD = 0.001\n",
    "\n",
    "delays = []\n",
    "\n",
    "with open(\"/Users/letitiaho/Downloads/lerty=timing-test-2copy.txt\") as f:\n",
    "    pending_pulse_index = None\n",
    "    \n",
    "    for i, line in enumerate(f):\n",
    "        ttl, audio = line.strip().split()\n",
    "        ttl = float(ttl)\n",
    "        audio = float(audio)\n",
    "    \n",
    "        if ttl > TTL_THRESHOLD and pending_pulse_index is None:\n",
    "            pending_pulse_index = i\n",
    "            \n",
    "        if audio > AUDIO_THRESHOLD and pending_pulse_index is not None:\n",
    "            delay = i - pending_pulse_index\n",
    "            delays.append(delay)\n",
    "            pending_pulse_index = None"
   ]
  },
  {
   "cell_type": "code",
   "execution_count": 8,
   "id": "15b92457",
   "metadata": {},
   "outputs": [
    {
     "data": {
      "text/plain": [
       "0.001115"
      ]
     },
     "execution_count": 8,
     "metadata": {},
     "output_type": "execute_result"
    }
   ],
   "source": [
    "# Calculate average delay in secs\n",
    "fs = 50000\n",
    "(sum(delays)/len(delays))/fs"
   ]
  },
  {
   "cell_type": "code",
   "execution_count": 17,
   "id": "b9cfc531",
   "metadata": {},
   "outputs": [
    {
     "data": {
      "text/plain": [
       "[<matplotlib.lines.Line2D at 0x7fcfa4bcf2b0>]"
      ]
     },
     "execution_count": 17,
     "metadata": {},
     "output_type": "execute_result"
    },
    {
     "data": {
      "image/png": "[encoded data removed]",
      "text/plain": [
       "<Figure size 432x288 with 1 Axes>"
      ]
     },
     "metadata": {
      "needs_background": "light"
     },
     "output_type": "display_data"
    }
   ],
   "source": [
    "# Plot\n",
    "indexes = [];\n",
    "ttls = []\n",
    "audios = []\n",
    "with open(\"/Users/letitiaho/Downloads/lerty=timing-test-2copy.txt\") as f:\n",
    "    pending_pulse_index = None\n",
    "    \n",
    "    for i, line in enumerate(f):\n",
    "        if i < 1240000 or i > 1350000:\n",
    "            continue\n",
    "            \n",
    "        ttl, audio = line.strip().split()\n",
    "        indexes.append(i)\n",
    "        ttls.append(float(ttl))\n",
    "        audios.append(float(audio))\n",
    "        \n",
    "plt.plot(indexes, ttls)\n",
    "plt.plot(indexes, audios)"
   ]
  }
 ],
 "metadata": {
  "kernelspec": {
   "display_name": "Python 3",
   "language": "python",
   "name": "python3"
  },
  "language_info": {
   "codemirror_mode": {
    "name": "ipython",
    "version": 3
   },
   "file_extension": ".py",
   "mimetype": "text/x-python",
   "name": "python",
   "nbconvert_exporter": "python",
   "pygments_lexer": "ipython3",
   "version": "3.9.5"
  }
 },
 "nbformat": 4,
 "nbformat_minor": 5
}
