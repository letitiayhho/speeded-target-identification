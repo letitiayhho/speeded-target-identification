{
 "cells": [
  {
   "cell_type": "code",
   "execution_count": 39,
   "id": "fc98ca94",
   "metadata": {},
   "outputs": [],
   "source": [
    "TTL_THRESHOLD = 1.0\n",
    "AUDIO_THRESHOLD = 0.001\n",
    "\n",
    "delays = []\n",
    "\n",
    "with open(\"/Users/letitiaho/Downloads/lerty=timing-test-2.txt\") as f:\n",
    "    pending_pulse_index = None\n",
    "    \n",
    "    for i, line in enumerate(f):\n",
    "        ttl, audio = line.strip().split()\n",
    "        ttl = float(ttl)\n",
    "        audio = float(audio)\n",
    "    \n",
    "        if ttl > TTL_THRESHOLD and pending_pulse_index is None:\n",
    "            pending_pulse_index = i\n",
    "            \n",
    "        if audio > AUDIO_THRESHOLD and pending_pulse_index is not None:\n",
    "            delay = i - pending_pulse_index\n",
    "            delays.append(delay)\n",
    "            pending_pulse_index = None"
   ]
  },
  {
   "cell_type": "code",
   "execution_count": 42,
   "id": "15b92457",
   "metadata": {},
   "outputs": [
    {
     "data": {
      "text/plain": [
       "0.001108062015503876"
      ]
     },
     "execution_count": 42,
     "metadata": {},
     "output_type": "execute_result"
    }
   ],
   "source": [
    "fs = 50000\n",
    "(sum(delays)/len(delays))/fs"
   ]
  }
 ],
 "metadata": {
  "kernelspec": {
   "display_name": "Python 3",
   "language": "python",
   "name": "python3"
  },
  "language_info": {
   "codemirror_mode": {
    "name": "ipython",
    "version": 3
   },
   "file_extension": ".py",
   "mimetype": "text/x-python",
   "name": "python",
   "nbconvert_exporter": "python",
   "pygments_lexer": "ipython3",
   "version": "3.9.5"
  }
 },
 "nbformat": 4,
 "nbformat_minor": 5
}
